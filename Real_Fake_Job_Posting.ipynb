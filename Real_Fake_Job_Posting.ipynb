{
  "nbformat": 4,
  "nbformat_minor": 0,
  "metadata": {
    "colab": {
      "name": "Real_Fake_Job_Posting.ipynb",
      "provenance": [],
      "collapsed_sections": [],
      "mount_file_id": "1iLvJbylxATuPSGelBQCqysSiSvrCOQyF",
      "authorship_tag": "ABX9TyNca6LGUJ13s+5m/SYDIMxx",
      "include_colab_link": true
    },
    "kernelspec": {
      "name": "python3",
      "display_name": "Python 3"
    },
    "language_info": {
      "name": "python"
    }
  },
  "cells": [
    {
      "cell_type": "markdown",
      "metadata": {
        "id": "view-in-github",
        "colab_type": "text"
      },
      "source": [
        "<a href=\"https://colab.research.google.com/github/DIVYANSHU85/Data-Processing/blob/main/Real_Fake_Job_Posting.ipynb\" target=\"_parent\"><img src=\"https://colab.research.google.com/assets/colab-badge.svg\" alt=\"Open In Colab\"/></a>"
      ]
    },
    {
      "cell_type": "markdown",
      "source": [
        "# FAKE or REAL JOB POSTINGS \n",
        "# > Data Processing \n",
        "\n",
        ">This dataset is taken from Kaggle, the dataset is about the data of JOBs posted by the HRs of different companies of USA.\n",
        "\n",
        ">We are doing the data preprocessing in the dataset making it useable for further processing of data for predicting whether the job posted is FAKE or REAL one.\n",
        "\n"
      ],
      "metadata": {
        "id": "cF4IIxhCTmpx"
      }
    },
    {
      "cell_type": "code",
      "source": [
        "from google.colab import drive\n",
        "drive.mount('/content/drive')"
      ],
      "metadata": {
        "id": "-GwRn89bQ5by"
      },
      "execution_count": null,
      "outputs": []
    },
    {
      "cell_type": "markdown",
      "source": [
        "Importing Pandas Library for creating a DATAFRAME from the dataset which is a CSV file."
      ],
      "metadata": {
        "id": "lX-C8mqq1d1X"
      }
    },
    {
      "cell_type": "code",
      "execution_count": null,
      "metadata": {
        "colab": {
          "base_uri": "https://localhost:8080/",
          "height": 433
        },
        "id": "on54Np2BrILY",
        "outputId": "49531170-6e7a-459c-97a4-f3b44dcaa5b2"
      },
      "outputs": [
        {
          "output_type": "execute_result",
          "data": {
            "text/plain": [
              "   job_id                                      title          location  \\\n",
              "0       1                           Marketing Intern  US, NY, New York   \n",
              "1       2  Customer Service - Cloud Video Production    NZ, , Auckland   \n",
              "2       3    Commissioning Machinery Assistant (CMA)     US, IA, Wever   \n",
              "\n",
              "  department salary_range                                    company_profile  \\\n",
              "0  Marketing          NaN  We're Food52, and we've created a groundbreaki...   \n",
              "1    Success          NaN  90 Seconds, the worlds Cloud Video Production ...   \n",
              "2        NaN          NaN  Valor Services provides Workforce Solutions th...   \n",
              "\n",
              "                                         description  \\\n",
              "0  Food52, a fast-growing, James Beard Award-winn...   \n",
              "1  Organised - Focused - Vibrant - Awesome!Do you...   \n",
              "2  Our client, located in Houston, is actively se...   \n",
              "\n",
              "                                        requirements  \\\n",
              "0  Experience with content management systems a m...   \n",
              "1  What we expect from you:Your key responsibilit...   \n",
              "2  Implement pre-commissioning and commissioning ...   \n",
              "\n",
              "                                            benefits  telecommuting  \\\n",
              "0                                                NaN              0   \n",
              "1  What you will get from usThrough being part of...              0   \n",
              "2                                                NaN              0   \n",
              "\n",
              "   has_company_logo  has_questions employment_type required_experience  \\\n",
              "0                 1              0           Other          Internship   \n",
              "1                 1              0       Full-time      Not Applicable   \n",
              "2                 1              0             NaN                 NaN   \n",
              "\n",
              "  required_education                   industry          function  fraudulent  \n",
              "0                NaN                        NaN         Marketing           0  \n",
              "1                NaN  Marketing and Advertising  Customer Service           0  \n",
              "2                NaN                        NaN               NaN           0  "
            ],
            "text/html": [
              "\n",
              "  <div id=\"df-e5ac7ad4-11b5-4fd6-85a9-a967dccf16e7\">\n",
              "    <div class=\"colab-df-container\">\n",
              "      <div>\n",
              "<style scoped>\n",
              "    .dataframe tbody tr th:only-of-type {\n",
              "        vertical-align: middle;\n",
              "    }\n",
              "\n",
              "    .dataframe tbody tr th {\n",
              "        vertical-align: top;\n",
              "    }\n",
              "\n",
              "    .dataframe thead th {\n",
              "        text-align: right;\n",
              "    }\n",
              "</style>\n",
              "<table border=\"1\" class=\"dataframe\">\n",
              "  <thead>\n",
              "    <tr style=\"text-align: right;\">\n",
              "      <th></th>\n",
              "      <th>job_id</th>\n",
              "      <th>title</th>\n",
              "      <th>location</th>\n",
              "      <th>department</th>\n",
              "      <th>salary_range</th>\n",
              "      <th>company_profile</th>\n",
              "      <th>description</th>\n",
              "      <th>requirements</th>\n",
              "      <th>benefits</th>\n",
              "      <th>telecommuting</th>\n",
              "      <th>has_company_logo</th>\n",
              "      <th>has_questions</th>\n",
              "      <th>employment_type</th>\n",
              "      <th>required_experience</th>\n",
              "      <th>required_education</th>\n",
              "      <th>industry</th>\n",
              "      <th>function</th>\n",
              "      <th>fraudulent</th>\n",
              "    </tr>\n",
              "  </thead>\n",
              "  <tbody>\n",
              "    <tr>\n",
              "      <th>0</th>\n",
              "      <td>1</td>\n",
              "      <td>Marketing Intern</td>\n",
              "      <td>US, NY, New York</td>\n",
              "      <td>Marketing</td>\n",
              "      <td>NaN</td>\n",
              "      <td>We're Food52, and we've created a groundbreaki...</td>\n",
              "      <td>Food52, a fast-growing, James Beard Award-winn...</td>\n",
              "      <td>Experience with content management systems a m...</td>\n",
              "      <td>NaN</td>\n",
              "      <td>0</td>\n",
              "      <td>1</td>\n",
              "      <td>0</td>\n",
              "      <td>Other</td>\n",
              "      <td>Internship</td>\n",
              "      <td>NaN</td>\n",
              "      <td>NaN</td>\n",
              "      <td>Marketing</td>\n",
              "      <td>0</td>\n",
              "    </tr>\n",
              "    <tr>\n",
              "      <th>1</th>\n",
              "      <td>2</td>\n",
              "      <td>Customer Service - Cloud Video Production</td>\n",
              "      <td>NZ, , Auckland</td>\n",
              "      <td>Success</td>\n",
              "      <td>NaN</td>\n",
              "      <td>90 Seconds, the worlds Cloud Video Production ...</td>\n",
              "      <td>Organised - Focused - Vibrant - Awesome!Do you...</td>\n",
              "      <td>What we expect from you:Your key responsibilit...</td>\n",
              "      <td>What you will get from usThrough being part of...</td>\n",
              "      <td>0</td>\n",
              "      <td>1</td>\n",
              "      <td>0</td>\n",
              "      <td>Full-time</td>\n",
              "      <td>Not Applicable</td>\n",
              "      <td>NaN</td>\n",
              "      <td>Marketing and Advertising</td>\n",
              "      <td>Customer Service</td>\n",
              "      <td>0</td>\n",
              "    </tr>\n",
              "    <tr>\n",
              "      <th>2</th>\n",
              "      <td>3</td>\n",
              "      <td>Commissioning Machinery Assistant (CMA)</td>\n",
              "      <td>US, IA, Wever</td>\n",
              "      <td>NaN</td>\n",
              "      <td>NaN</td>\n",
              "      <td>Valor Services provides Workforce Solutions th...</td>\n",
              "      <td>Our client, located in Houston, is actively se...</td>\n",
              "      <td>Implement pre-commissioning and commissioning ...</td>\n",
              "      <td>NaN</td>\n",
              "      <td>0</td>\n",
              "      <td>1</td>\n",
              "      <td>0</td>\n",
              "      <td>NaN</td>\n",
              "      <td>NaN</td>\n",
              "      <td>NaN</td>\n",
              "      <td>NaN</td>\n",
              "      <td>NaN</td>\n",
              "      <td>0</td>\n",
              "    </tr>\n",
              "  </tbody>\n",
              "</table>\n",
              "</div>\n",
              "      <button class=\"colab-df-convert\" onclick=\"convertToInteractive('df-e5ac7ad4-11b5-4fd6-85a9-a967dccf16e7')\"\n",
              "              title=\"Convert this dataframe to an interactive table.\"\n",
              "              style=\"display:none;\">\n",
              "        \n",
              "  <svg xmlns=\"http://www.w3.org/2000/svg\" height=\"24px\"viewBox=\"0 0 24 24\"\n",
              "       width=\"24px\">\n",
              "    <path d=\"M0 0h24v24H0V0z\" fill=\"none\"/>\n",
              "    <path d=\"M18.56 5.44l.94 2.06.94-2.06 2.06-.94-2.06-.94-.94-2.06-.94 2.06-2.06.94zm-11 1L8.5 8.5l.94-2.06 2.06-.94-2.06-.94L8.5 2.5l-.94 2.06-2.06.94zm10 10l.94 2.06.94-2.06 2.06-.94-2.06-.94-.94-2.06-.94 2.06-2.06.94z\"/><path d=\"M17.41 7.96l-1.37-1.37c-.4-.4-.92-.59-1.43-.59-.52 0-1.04.2-1.43.59L10.3 9.45l-7.72 7.72c-.78.78-.78 2.05 0 2.83L4 21.41c.39.39.9.59 1.41.59.51 0 1.02-.2 1.41-.59l7.78-7.78 2.81-2.81c.8-.78.8-2.07 0-2.86zM5.41 20L4 18.59l7.72-7.72 1.47 1.35L5.41 20z\"/>\n",
              "  </svg>\n",
              "      </button>\n",
              "      \n",
              "  <style>\n",
              "    .colab-df-container {\n",
              "      display:flex;\n",
              "      flex-wrap:wrap;\n",
              "      gap: 12px;\n",
              "    }\n",
              "\n",
              "    .colab-df-convert {\n",
              "      background-color: #E8F0FE;\n",
              "      border: none;\n",
              "      border-radius: 50%;\n",
              "      cursor: pointer;\n",
              "      display: none;\n",
              "      fill: #1967D2;\n",
              "      height: 32px;\n",
              "      padding: 0 0 0 0;\n",
              "      width: 32px;\n",
              "    }\n",
              "\n",
              "    .colab-df-convert:hover {\n",
              "      background-color: #E2EBFA;\n",
              "      box-shadow: 0px 1px 2px rgba(60, 64, 67, 0.3), 0px 1px 3px 1px rgba(60, 64, 67, 0.15);\n",
              "      fill: #174EA6;\n",
              "    }\n",
              "\n",
              "    [theme=dark] .colab-df-convert {\n",
              "      background-color: #3B4455;\n",
              "      fill: #D2E3FC;\n",
              "    }\n",
              "\n",
              "    [theme=dark] .colab-df-convert:hover {\n",
              "      background-color: #434B5C;\n",
              "      box-shadow: 0px 1px 3px 1px rgba(0, 0, 0, 0.15);\n",
              "      filter: drop-shadow(0px 1px 2px rgba(0, 0, 0, 0.3));\n",
              "      fill: #FFFFFF;\n",
              "    }\n",
              "  </style>\n",
              "\n",
              "      <script>\n",
              "        const buttonEl =\n",
              "          document.querySelector('#df-e5ac7ad4-11b5-4fd6-85a9-a967dccf16e7 button.colab-df-convert');\n",
              "        buttonEl.style.display =\n",
              "          google.colab.kernel.accessAllowed ? 'block' : 'none';\n",
              "\n",
              "        async function convertToInteractive(key) {\n",
              "          const element = document.querySelector('#df-e5ac7ad4-11b5-4fd6-85a9-a967dccf16e7');\n",
              "          const dataTable =\n",
              "            await google.colab.kernel.invokeFunction('convertToInteractive',\n",
              "                                                     [key], {});\n",
              "          if (!dataTable) return;\n",
              "\n",
              "          const docLinkHtml = 'Like what you see? Visit the ' +\n",
              "            '<a target=\"_blank\" href=https://colab.research.google.com/notebooks/data_table.ipynb>data table notebook</a>'\n",
              "            + ' to learn more about interactive tables.';\n",
              "          element.innerHTML = '';\n",
              "          dataTable['output_type'] = 'display_data';\n",
              "          await google.colab.output.renderOutput(dataTable, element);\n",
              "          const docLink = document.createElement('div');\n",
              "          docLink.innerHTML = docLinkHtml;\n",
              "          element.appendChild(docLink);\n",
              "        }\n",
              "      </script>\n",
              "    </div>\n",
              "  </div>\n",
              "  "
            ]
          },
          "metadata": {},
          "execution_count": 20
        }
      ],
      "source": [
        "import pandas as pd\n",
        "\n",
        "df = pd.read_csv(\"/content/drive/MyDrive/fake_job_postings.csv\")\n",
        "df.head(3)"
      ]
    },
    {
      "cell_type": "markdown",
      "source": [
        "# Getting Information of RAW Dataframe <df>"
      ],
      "metadata": {
        "id": "uzZZSuatq-o2"
      }
    },
    {
      "cell_type": "code",
      "source": [
        "df.info()"
      ],
      "metadata": {
        "colab": {
          "base_uri": "https://localhost:8080/"
        },
        "id": "NMxFksW7uNJF",
        "outputId": "2eae6055-c3cd-4ec3-cc85-c53be996692b"
      },
      "execution_count": null,
      "outputs": [
        {
          "output_type": "stream",
          "name": "stdout",
          "text": [
            "<class 'pandas.core.frame.DataFrame'>\n",
            "RangeIndex: 17880 entries, 0 to 17879\n",
            "Data columns (total 18 columns):\n",
            " #   Column               Non-Null Count  Dtype \n",
            "---  ------               --------------  ----- \n",
            " 0   job_id               17880 non-null  int64 \n",
            " 1   title                17880 non-null  object\n",
            " 2   location             17534 non-null  object\n",
            " 3   department           6333 non-null   object\n",
            " 4   salary_range         2868 non-null   object\n",
            " 5   company_profile      14572 non-null  object\n",
            " 6   description          17879 non-null  object\n",
            " 7   requirements         15185 non-null  object\n",
            " 8   benefits             10670 non-null  object\n",
            " 9   telecommuting        17880 non-null  int64 \n",
            " 10  has_company_logo     17880 non-null  int64 \n",
            " 11  has_questions        17880 non-null  int64 \n",
            " 12  employment_type      14409 non-null  object\n",
            " 13  required_experience  10830 non-null  object\n",
            " 14  required_education   9775 non-null   object\n",
            " 15  industry             12977 non-null  object\n",
            " 16  function             11425 non-null  object\n",
            " 17  fraudulent           17880 non-null  int64 \n",
            "dtypes: int64(5), object(13)\n",
            "memory usage: 2.5+ MB\n"
          ]
        }
      ]
    },
    {
      "cell_type": "markdown",
      "source": [
        "Checking the number of null values in each columns of the dataset"
      ],
      "metadata": {
        "id": "rW74743nrXFV"
      }
    },
    {
      "cell_type": "code",
      "source": [
        "df.isnull().sum()"
      ],
      "metadata": {
        "colab": {
          "base_uri": "https://localhost:8080/"
        },
        "id": "m--_QCemudW_",
        "outputId": "4f7c442a-ff2f-4d09-f7b7-d67ad07ef9cd"
      },
      "execution_count": null,
      "outputs": [
        {
          "output_type": "execute_result",
          "data": {
            "text/plain": [
              "job_id                     0\n",
              "title                      0\n",
              "location                 346\n",
              "department             11547\n",
              "salary_range           15012\n",
              "company_profile         3308\n",
              "description                1\n",
              "requirements            2695\n",
              "benefits                7210\n",
              "telecommuting              0\n",
              "has_company_logo           0\n",
              "has_questions              0\n",
              "employment_type         3471\n",
              "required_experience     7050\n",
              "required_education      8105\n",
              "industry                4903\n",
              "function                6455\n",
              "fraudulent                 0\n",
              "dtype: int64"
            ]
          },
          "metadata": {},
          "execution_count": 5
        }
      ]
    },
    {
      "cell_type": "markdown",
      "source": [
        "Printing the Total Data, Real Data and Fake Data of the dataset"
      ],
      "metadata": {
        "id": "le9QV-KCrmyg"
      }
    },
    {
      "cell_type": "code",
      "source": [
        "print(\"Total Data: \", df.shape) #Total Data\n",
        "print(\"Real Data: \", df[df['fraudulent'] == 0].shape) #Real Data\n",
        "print(\"Fake Data: \", df[df['fraudulent'] == 1].shape) #Fake Date"
      ],
      "metadata": {
        "colab": {
          "base_uri": "https://localhost:8080/"
        },
        "id": "qEWJcbfnvuZR",
        "outputId": "4e69a49c-2b5e-4a2a-fda3-a226fbfb24f9"
      },
      "execution_count": null,
      "outputs": [
        {
          "output_type": "stream",
          "name": "stdout",
          "text": [
            "Total Data:  (17880, 18)\n",
            "Real Data:  (17014, 18)\n",
            "Fake Data:  (866, 18)\n"
          ]
        }
      ]
    },
    {
      "cell_type": "markdown",
      "source": [
        "Calculating the total number of non-null values in each column"
      ],
      "metadata": {
        "id": "sgz5CXjvr-Gi"
      }
    },
    {
      "cell_type": "code",
      "source": [
        "df.count()"
      ],
      "metadata": {
        "colab": {
          "base_uri": "https://localhost:8080/"
        },
        "id": "vkeZFdIW6wDZ",
        "outputId": "b91c67c5-648b-4030-c25e-d5af2171a5aa"
      },
      "execution_count": null,
      "outputs": [
        {
          "output_type": "execute_result",
          "data": {
            "text/plain": [
              "job_id                 17880\n",
              "title                  17880\n",
              "location               17534\n",
              "department              6333\n",
              "salary_range            2868\n",
              "company_profile        14572\n",
              "description            17879\n",
              "requirements           15185\n",
              "benefits               10670\n",
              "telecommuting          17880\n",
              "has_company_logo       17880\n",
              "has_questions          17880\n",
              "employment_type        14409\n",
              "required_experience    10830\n",
              "required_education      9775\n",
              "industry               12977\n",
              "function               11425\n",
              "fraudulent             17880\n",
              "dtype: int64"
            ]
          },
          "metadata": {},
          "execution_count": 7
        }
      ]
    },
    {
      "cell_type": "markdown",
      "source": [
        "Checking, if there is any duplicate value in the dataset."
      ],
      "metadata": {
        "id": "ZG8lnwa3sM9i"
      }
    },
    {
      "cell_type": "code",
      "source": [
        "df.duplicated().sum()"
      ],
      "metadata": {
        "colab": {
          "base_uri": "https://localhost:8080/"
        },
        "id": "opKN4Ne9-gqb",
        "outputId": "ffc52a9a-2863-4f6a-a7cf-e6250ac7fd62"
      },
      "execution_count": null,
      "outputs": [
        {
          "output_type": "execute_result",
          "data": {
            "text/plain": [
              "0"
            ]
          },
          "metadata": {},
          "execution_count": 8
        }
      ]
    },
    {
      "cell_type": "markdown",
      "source": [
        "Getting the count of unique rows of \"telecommuting\" column in the Dataframe"
      ],
      "metadata": {
        "id": "nTtDBiWusZYP"
      }
    },
    {
      "cell_type": "code",
      "source": [
        "df['telecommuting'].value_counts()"
      ],
      "metadata": {
        "colab": {
          "base_uri": "https://localhost:8080/"
        },
        "id": "mWHu4D7_-ugq",
        "outputId": "45ea649d-b415-408c-8172-c9e46923a6a9"
      },
      "execution_count": null,
      "outputs": [
        {
          "output_type": "execute_result",
          "data": {
            "text/plain": [
              "0    17113\n",
              "1      767\n",
              "Name: telecommuting, dtype: int64"
            ]
          },
          "metadata": {},
          "execution_count": 9
        }
      ]
    },
    {
      "cell_type": "markdown",
      "source": [
        "Getting the count of unique rows of \"employment_type\" column in the Dataframe"
      ],
      "metadata": {
        "id": "0AM25YOys5pm"
      }
    },
    {
      "cell_type": "code",
      "source": [
        "df['employment_type'].value_counts()"
      ],
      "metadata": {
        "colab": {
          "base_uri": "https://localhost:8080/"
        },
        "id": "OGo7P-_Kv2HU",
        "outputId": "eb73e2b0-7dbe-42d1-ca47-e1bd097db314"
      },
      "execution_count": null,
      "outputs": [
        {
          "output_type": "execute_result",
          "data": {
            "text/plain": [
              "Full-time    11620\n",
              "Contract      1524\n",
              "Part-time      797\n",
              "Temporary      241\n",
              "Other          227\n",
              "Name: employment_type, dtype: int64"
            ]
          },
          "metadata": {},
          "execution_count": 10
        }
      ]
    },
    {
      "cell_type": "markdown",
      "source": [
        "# Cleaing of the RAW Dataset\n",
        "First of all droping the unwanted columns of the dataset, which are not required for the classification and prediction of Fraudulent Jobs"
      ],
      "metadata": {
        "id": "QW8EozcdtC9o"
      }
    },
    {
      "cell_type": "code",
      "source": [
        "clm_drop = ['job_id','salary_range','telecommuting','has_questions','department','industry']\n",
        "\n",
        "clean_df = df.drop(clm_drop, axis= 1)\n",
        "clean_df.isnull().sum()\n",
        "# clean_df.columns"
      ],
      "metadata": {
        "colab": {
          "base_uri": "https://localhost:8080/"
        },
        "id": "M7fbHD4mv_q9",
        "outputId": "d8af9395-0d18-4041-ee2a-59d7881232cc"
      },
      "execution_count": null,
      "outputs": [
        {
          "output_type": "execute_result",
          "data": {
            "text/plain": [
              "title                     0\n",
              "location                346\n",
              "company_profile        3308\n",
              "description               1\n",
              "requirements           2695\n",
              "benefits               7210\n",
              "has_company_logo          0\n",
              "employment_type        3471\n",
              "required_experience    7050\n",
              "required_education     8105\n",
              "function               6455\n",
              "fraudulent                0\n",
              "dtype: int64"
            ]
          },
          "metadata": {},
          "execution_count": 11
        }
      ]
    },
    {
      "cell_type": "markdown",
      "source": [
        "Handling the Null values,\n",
        "\n",
        "> In the Columns: employment_type, required_experience, required_education, location, the \"NaN\" values are replaced with \"Unknown\" because these were Unknown in the job posting."
      ],
      "metadata": {
        "id": "3rYsf4Y3tne1"
      }
    },
    {
      "cell_type": "code",
      "source": [
        "final_df = clean_df\n",
        "ukn_clm = ['employment_type', 'required_experience', 'required_education','location']\n",
        "for col in ukn_clm:\n",
        "  final_df[col].fillna('Unknown', inplace=True)\n",
        "\n",
        "final_df.isnull().sum()"
      ],
      "metadata": {
        "colab": {
          "base_uri": "https://localhost:8080/"
        },
        "id": "lzfozYuV34RZ",
        "outputId": "86309476-0c16-4d12-934a-808783e3b50a"
      },
      "execution_count": null,
      "outputs": [
        {
          "output_type": "execute_result",
          "data": {
            "text/plain": [
              "title                     0\n",
              "location                  0\n",
              "company_profile        3308\n",
              "description               1\n",
              "requirements           2695\n",
              "benefits               7210\n",
              "has_company_logo          0\n",
              "employment_type           0\n",
              "required_experience       0\n",
              "required_education        0\n",
              "function               6455\n",
              "fraudulent                0\n",
              "dtype: int64"
            ]
          },
          "metadata": {},
          "execution_count": 12
        }
      ]
    },
    {
      "cell_type": "markdown",
      "source": [
        "Droping the rows of dataframe in which there contains null values in the columns: 'company_profile', 'description', 'requirements', 'benefits', simultaneously and filling the remaining null values with blank string to simplify the dataframe.\n"
      ],
      "metadata": {
        "id": "4aj_moPPvLXU"
      }
    },
    {
      "cell_type": "code",
      "source": [
        "txt_clm = ['company_profile', 'description', 'requirements', 'benefits']\n",
        "\n",
        "final_df = final_df.dropna(subset=txt_clm, how='all')\n",
        "for col in txt_clm:\n",
        "    final_df[col].fillna(' ', inplace=True)"
      ],
      "metadata": {
        "id": "Wvjp6U49C19w"
      },
      "execution_count": null,
      "outputs": []
    },
    {
      "cell_type": "code",
      "source": [
        "final_df.isnull().sum()"
      ],
      "metadata": {
        "colab": {
          "base_uri": "https://localhost:8080/"
        },
        "id": "D6l-fma1FOXP",
        "outputId": "6def01e6-0c86-451a-ce96-6179be137e93"
      },
      "execution_count": null,
      "outputs": [
        {
          "output_type": "execute_result",
          "data": {
            "text/plain": [
              "title                     0\n",
              "location                  0\n",
              "company_profile           0\n",
              "description               0\n",
              "requirements              0\n",
              "benefits                  0\n",
              "has_company_logo          0\n",
              "employment_type           0\n",
              "required_experience       0\n",
              "required_education        0\n",
              "function               6454\n",
              "fraudulent                0\n",
              "dtype: int64"
            ]
          },
          "metadata": {},
          "execution_count": 14
        }
      ]
    },
    {
      "cell_type": "markdown",
      "source": [
        "Filling the 'NaN' values of \"Function\" Column with 'Others', because the Job function was not specified"
      ],
      "metadata": {
        "id": "ZhsEEkBjwcYn"
      }
    },
    {
      "cell_type": "code",
      "source": [
        "final_df['function'].fillna('Others', inplace = True)"
      ],
      "metadata": {
        "id": "GQFHaNfCRlcM"
      },
      "execution_count": null,
      "outputs": []
    },
    {
      "cell_type": "markdown",
      "source": [
        "All the Null Values are handled and the dataset is now ready for further use to classify and predict the fraudulent jobs."
      ],
      "metadata": {
        "id": "bg9udCDIzTbU"
      }
    },
    {
      "cell_type": "code",
      "source": [
        "final_df.isnull().sum()"
      ],
      "metadata": {
        "colab": {
          "base_uri": "https://localhost:8080/"
        },
        "id": "YYg57Gj8V5fN",
        "outputId": "6bb8cdbe-f5f3-4cb3-8af6-2bfacc817d20"
      },
      "execution_count": null,
      "outputs": [
        {
          "output_type": "execute_result",
          "data": {
            "text/plain": [
              "title                  0\n",
              "location               0\n",
              "company_profile        0\n",
              "description            0\n",
              "requirements           0\n",
              "benefits               0\n",
              "has_company_logo       0\n",
              "employment_type        0\n",
              "required_experience    0\n",
              "required_education     0\n",
              "function               0\n",
              "fraudulent             0\n",
              "dtype: int64"
            ]
          },
          "metadata": {},
          "execution_count": 16
        }
      ]
    },
    {
      "cell_type": "code",
      "source": [
        "final_df.info()"
      ],
      "metadata": {
        "colab": {
          "base_uri": "https://localhost:8080/"
        },
        "id": "o0JlE3xgxiAn",
        "outputId": "17e000e8-edc6-4102-e19b-0f912ece3b22"
      },
      "execution_count": null,
      "outputs": [
        {
          "output_type": "stream",
          "name": "stdout",
          "text": [
            "<class 'pandas.core.frame.DataFrame'>\n",
            "Int64Index: 17879 entries, 0 to 17879\n",
            "Data columns (total 12 columns):\n",
            " #   Column               Non-Null Count  Dtype \n",
            "---  ------               --------------  ----- \n",
            " 0   title                17879 non-null  object\n",
            " 1   location             17879 non-null  object\n",
            " 2   company_profile      17879 non-null  object\n",
            " 3   description          17879 non-null  object\n",
            " 4   requirements         17879 non-null  object\n",
            " 5   benefits             17879 non-null  object\n",
            " 6   has_company_logo     17879 non-null  int64 \n",
            " 7   employment_type      17879 non-null  object\n",
            " 8   required_experience  17879 non-null  object\n",
            " 9   required_education   17879 non-null  object\n",
            " 10  function             17879 non-null  object\n",
            " 11  fraudulent           17879 non-null  int64 \n",
            "dtypes: int64(2), object(10)\n",
            "memory usage: 1.8+ MB\n"
          ]
        }
      ]
    }
  ]
}